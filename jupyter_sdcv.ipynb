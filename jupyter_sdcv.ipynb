{
 "cells": [
  {
   "cell_type": "code",
   "execution_count": 6,
   "metadata": {
    "collapsed": true
   },
   "outputs": [],
   "source": [
    "from pystardict import Dictionary\n",
    "from pathlib import Path\n",
    "import re\n",
    "from ipywidgets import interact"
   ]
  },
  {
   "cell_type": "code",
   "execution_count": 7,
   "metadata": {
    "collapsed": true
   },
   "outputs": [],
   "source": [
    "# ---------- output string format ----------\n",
    "indexword_out_str = '\u001b[0;32;1m{0}\u001b[0m'\n",
    "pos_out_str = ' \u001b[1;36;2m{0}\u001b[1;37;1m{1}\u001b[0m'\n",
    "pos_cn_out_str = ' \u001b[0;35;2m{0}\u001b[0m{1}'\n",
    "phon_out_str = ' \u001b[0;30;1m{0}\u001b[0m'\n",
    "misc_out_str = ' \u001b[0;31;2m{0}\u001b[0m'\n",
    "dict_name_out_str = ' \u001b[1;34;1m{0}\u001b[0m'\n",
    "\n",
    "# regular expressions\n",
    "pos_reg = re.compile('(a|v|n|ad|adj|adv|vt|vi)\\.')\n",
    "pos_cn_reg = re.compile('【.*】')\n",
    "phon_reg = re.compile('\\*?\\[.*\\]')\n",
    "pinyin_bug = re.compile('([a-z]\\?.*){2,}')\n",
    "jap_bug = re.compile('\\$')"
   ]
  },
  {
   "cell_type": "code",
   "execution_count": 8,
   "metadata": {
    "collapsed": false
   },
   "outputs": [],
   "source": [
    "# ---------- loading all the dictionaries ----------\n",
    "dictionaries = []\n",
    "dict_book_names = []\n",
    "dict_path_prefix = Path.home().joinpath('.stardict')\n",
    "for i_dir in dict_path_prefix.glob('*'):\n",
    "    dict_path = dict_path_prefix.joinpath(i_dir)\n",
    "    dict_dir_name = str(dict_path) + '/'\n",
    "    for dict_name in dict_path.glob('*'):\n",
    "        if dict_name.match('*.ifo'):\n",
    "            info_name = dict_name.stem\n",
    "            with open(str(dict_name), 'r') as dict_info_file:\n",
    "                for line in dict_info_file:\n",
    "                    if line.startswith('bookname'):\n",
    "                        words = line.strip().split('=')\n",
    "                        dict_book_names.append(words[-1])\n",
    "        if dict_name.match('*.idx'):\n",
    "            indx_name = dict_name.stem\n",
    "        if dict_name.match('*.dict') or dict_name.match('*.dict.dz'):\n",
    "            data_name = dict_name.stem.split('.')[0]\n",
    "    if not info_name == indx_name == data_name:\n",
    "        print('Error: Dictionary name should be same for .ifo .idx and .dict (.dict.dz) files.')\n",
    "    else:\n",
    "        dict_name = dict_dir_name + data_name\n",
    "        dict1 = Dictionary(dict_name, True)\n",
    "        dictionaries.append(dict1)"
   ]
  },
  {
   "cell_type": "code",
   "execution_count": 9,
   "metadata": {
    "collapsed": false
   },
   "outputs": [],
   "source": [
    "def sdcv(request, dict_sel_opt):\n",
    "    dict_local = dictionaries\n",
    "    dnames_loc = dict_book_names\n",
    "    try:\n",
    "        d_tmp = dict_local[dict_sel_opt]\n",
    "        dict_local = [d_tmp]\n",
    "        name_tmp = dnames_loc[dict_sel_opt]\n",
    "        dnames_loc = [name_tmp]\n",
    "    except Exception:\n",
    "        print(' Using all the dictionaries: ')\n",
    "\n",
    "    for i, d in enumerate(dict_local):\n",
    "        dict_key_list = d.keys()\n",
    "        for dict_word in dict_key_list:\n",
    "            if request == dict_word:\n",
    "                translation = d[dict_word]\n",
    "                print('\u001b[0;30;1m--------------------------------------------------\u001b[0m')\n",
    "                print(dict_name_out_str.format(dnames_loc[i]))\n",
    "                print(indexword_out_str.format(dict_word))\n",
    "                for transline in translation.split('\\n'):\n",
    "                    m_pos = re.match(pos_reg, transline)\n",
    "                    m_pos_cn = re.search(pos_cn_reg, transline)\n",
    "                    if m_pos:\n",
    "                        print(pos_out_str.format(transline[:m_pos.end()], transline[m_pos.end():]))\n",
    "                    elif m_pos_cn:\n",
    "                        print(pos_cn_out_str.format(transline[:m_pos_cn.end()], transline[m_pos_cn.end():]))\n",
    "                    elif re.match(phon_reg, transline):\n",
    "                        print(phon_out_str.format(transline))\n",
    "                    elif transline.startswith('词形') or transline.startswith('例句') or transline.startswith('相关'):\n",
    "                        print('\u001b[0;30;1m~~~~~~~~~~~~~~~~~~~~\u001b[0m')\n",
    "                        print(misc_out_str.format(transline))\n",
    "                    elif re.match(pinyin_bug, transline):\n",
    "                        pass\n",
    "                    elif jap_bug.match(transline):\n",
    "                        print('  ', transline[1:])\n",
    "                    else:\n",
    "                        print(' ', transline)"
   ]
  },
  {
   "cell_type": "code",
   "execution_count": 12,
   "metadata": {
    "collapsed": true
   },
   "outputs": [],
   "source": [
    "dictionary_bookname_dict = {}\n",
    "for i, bname in enumerate(dict_book_names):\n",
    "    dictionary_bookname_dict[bname] = i\n",
    "dictionary_bookname_dict[\"All\"] = len(dict_book_names) + 1"
   ]
  },
  {
   "cell_type": "code",
   "execution_count": 15,
   "metadata": {
    "collapsed": false
   },
   "outputs": [
    {
     "name": "stdout",
     "output_type": "stream",
     "text": [
      " Using all the dictionaries: \n"
     ]
    },
    {
     "data": {
      "text/plain": [
       "<function __main__.sdcv>"
      ]
     },
     "execution_count": 15,
     "metadata": {},
     "output_type": "execute_result"
    }
   ],
   "source": [
    "interact(sdcv, dict_sel_opt=dictionary_bookname_dict, request='')"
   ]
  },
  {
   "cell_type": "code",
   "execution_count": null,
   "metadata": {
    "collapsed": true
   },
   "outputs": [],
   "source": []
  }
 ],
 "metadata": {
  "kernelspec": {
   "display_name": "Python 3",
   "language": "python",
   "name": "python3"
  },
  "language_info": {
   "codemirror_mode": {
    "name": "ipython",
    "version": 3
   },
   "file_extension": ".py",
   "mimetype": "text/x-python",
   "name": "python",
   "nbconvert_exporter": "python",
   "pygments_lexer": "ipython3",
   "version": "3.5.1"
  },
  "widgets": {
   "state": {
    "009cb650be84465891690d5a9dc96ffd": {
     "views": []
    },
    "11f12cf3e20b40b3950c2bfd338e63bd": {
     "views": []
    },
    "186bacb6d9be46b9870ceb8cb171b40b": {
     "views": []
    },
    "24c2ca5c2fd846b18d828608a70b483c": {
     "views": []
    },
    "29264d6bcff94a5a8afe723e39aed81a": {
     "views": []
    },
    "2997e85752184691bb797d5a1592a124": {
     "views": []
    },
    "3c0e3c243b5748e3908fa048eee38e86": {
     "views": []
    },
    "3feb6196b2354aa79bcb3f7725c2787a": {
     "views": []
    },
    "4279388e066a4e7796bb37bfcd92a45d": {
     "views": []
    },
    "548ac6a86fd34e339326f96f7d2b2ea3": {
     "views": []
    },
    "675462b620054470b627ab486e2df307": {
     "views": []
    },
    "6ea399cf3a124829a951ac177a2f063a": {
     "views": []
    },
    "78425e010bef400f9e88fb4f53ce1a19": {
     "views": []
    },
    "7adcf2557b08403490de20a259354bcc": {
     "views": []
    },
    "8820943cd9bc49a4b8efe3dabb4e2040": {
     "views": []
    },
    "8af74acbf138462f80086625122ddb38": {
     "views": []
    },
    "8e431f369e6b4c19978bfcf0646cfdb3": {
     "views": []
    },
    "945de4d10f1a4e688a370d7caf39a085": {
     "views": []
    },
    "9fd71a25f9444244bcd0c83d46cc3242": {
     "views": []
    },
    "a78a1a8ac8ed4d039bab2b76a99a4087": {
     "views": []
    },
    "a93730be65194b45bffdfe553103e50f": {
     "views": []
    },
    "aab24c448df64b5b9c973b0fb2977b5d": {
     "views": []
    },
    "b47ce4e9324d4b3ab50ed0f6cda9d315": {
     "views": []
    },
    "ba4beb4e80324cc8aa6fa25be3588af0": {
     "views": []
    },
    "bc75ea8b226646f19090dc263b10b027": {
     "views": [
      {
       "cell_index": 5
      }
     ]
    },
    "bcbc5312d46d452db4edf441a8a90c3d": {
     "views": []
    },
    "bdca1972899140469da4cb21fdf0be08": {
     "views": []
    },
    "cfdebc885db34d3984714ccf366563ec": {
     "views": []
    },
    "d552e7a54ea14ca3910e7418e88aad40": {
     "views": []
    },
    "dbbdc93b141b4dd68a295d4fd720a805": {
     "views": []
    },
    "e9848d6079d7473e9e794d9c2e03eb5c": {
     "views": []
    },
    "ee0437afa31647e6a9ff873fa95e7472": {
     "views": []
    },
    "f1497b8cb862480d9280755c843440f6": {
     "views": []
    },
    "f4109a31baec4cb483506340d34da5d7": {
     "views": []
    },
    "fb58f80bd2ab4da5b038f4e843d9c3e0": {
     "views": []
    },
    "fddb5888d0ed4fedbe453c8ad1f25d2c": {
     "views": []
    }
   },
   "version": "1.1.1"
  }
 },
 "nbformat": 4,
 "nbformat_minor": 0
}
