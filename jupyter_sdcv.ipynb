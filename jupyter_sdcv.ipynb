{
 "cells": [
  {
   "cell_type": "code",
   "execution_count": 1,
   "metadata": {
    "collapsed": true
   },
   "outputs": [],
   "source": [
    "from pystardict import Dictionary\n",
    "from pathlib import Path\n",
    "import re"
   ]
  },
  {
   "cell_type": "code",
   "execution_count": 3,
   "metadata": {
    "collapsed": false
   },
   "outputs": [],
   "source": [
    "dictionaries = []\n",
    "dict_path_prefix = Path.home().joinpath('.stardict')\n",
    "for i_dir in dict_path_prefix.glob('*'):\n",
    "    dict_path = dict_path_prefix.joinpath(i_dir)\n",
    "    dict_dir_name = str(dict_path) + '/'\n",
    "    for dict_name in dict_path.glob('*'):\n",
    "        if dict_name.match('*.ifo'):\n",
    "            info_name = dict_name.stem\n",
    "        if dict_name.match('*.idx'):\n",
    "            indx_name = dict_name.stem\n",
    "        if dict_name.match('*.dict') or dict_name.match('*.dict.dz'):\n",
    "            data_name = dict_name.stem.split('.')[0]\n",
    "    if not info_name == indx_name == data_name:\n",
    "        print('Error: Dictionary name should be same for .ifo .idx and .dict (.dict.dz) files.')\n",
    "        pass\n",
    "    else:\n",
    "        dict_name = dict_dir_name + data_name\n",
    "        dict1 = Dictionary(dict_name, True)\n",
    "        dictionaries.append(dict1)"
   ]
  },
  {
   "cell_type": "code",
   "execution_count": 4,
   "metadata": {
    "collapsed": true
   },
   "outputs": [],
   "source": [
    "indexword_out_str = '\u001b[0;32;1m{0}\u001b[0m'\n",
    "pos_out_str = '\u001b[0;37;1m{0}\u001b[0m'\n",
    "phon_out_str = '\u001b[0;30;1m{0}\u001b[0m'\n",
    "misc_out_str = '\u001b[0;36;1m{0}\u001b[0m'"
   ]
  },
  {
   "cell_type": "code",
   "execution_count": null,
   "metadata": {
    "collapsed": false
   },
   "outputs": [
    {
     "name": "stdout",
     "output_type": "stream",
     "text": [
      " Input: ^compil.*tion$\n",
      " Input: intoxication\n",
      "\u001b[0;30;1m--------------------------------------------------\u001b[0m\n",
      "\u001b[0;32;1mintoxication\u001b[0m\n",
      "\u001b[0;30;1m*[in,tɒksi'keiʃәn]\u001b[0m\n",
      "\u001b[0;37;1mn. 使醉, 沉醉状态\u001b[0m\n",
      "【医】 中毒, 醉[酒]\n"
     ]
    }
   ],
   "source": [
    "while True:\n",
    "    try:\n",
    "        request = input('\u001b[0;30;1m Input: \u001b[0m')\n",
    "    except Exception:\n",
    "        pass\n",
    "    for d in dictionaries:\n",
    "        dict_key_list = d.keys()\n",
    "        for dict_word in dict_key_list:\n",
    "            if request == dict_word:\n",
    "                translation = d[dict_word]\n",
    "                print('\u001b[0;30;1m--------------------------------------------------\u001b[0m')\n",
    "                print(indexword_out_str.format(dict_word))\n",
    "                # print(translation)\n",
    "                for transline in translation.split('\\n'):\n",
    "                    pos_reg = re.compile('(a|v|n|adj|adv|vt|vi)\\.')\n",
    "                    phon_reg = re.compile('\\*?\\[.*\\]')\n",
    "                    if re.match(pos_reg, transline):\n",
    "                        print(pos_out_str.format(transline))\n",
    "                    elif re.match(phon_reg, transline):\n",
    "                        print(phon_out_str.format(transline))\n",
    "                    elif transline.startswith('词形') or transline.startswith('例句') or transline.startswith('相关'):\n",
    "                        print('\u001b[0;30;1m--------------------\u001b[0m')\n",
    "                        print(misc_out_str.format(transline))\n",
    "                    else:\n",
    "                        print(transline)"
   ]
  },
  {
   "cell_type": "code",
   "execution_count": null,
   "metadata": {
    "collapsed": true
   },
   "outputs": [],
   "source": []
  }
 ],
 "metadata": {
  "kernelspec": {
   "display_name": "Python 3",
   "language": "python",
   "name": "python3"
  },
  "language_info": {
   "codemirror_mode": {
    "name": "ipython",
    "version": 3
   },
   "file_extension": ".py",
   "mimetype": "text/x-python",
   "name": "python",
   "nbconvert_exporter": "python",
   "pygments_lexer": "ipython3",
   "version": "3.5.1"
  }
 },
 "nbformat": 4,
 "nbformat_minor": 0
}
