{
 "cells": [
  {
   "cell_type": "code",
   "execution_count": 1,
   "metadata": {
    "collapsed": true
   },
   "outputs": [],
   "source": [
    "from pystardict import Dictionary\n",
    "from pathlib import Path\n",
    "import re\n",
    "from ipywidgets import interact"
   ]
  },
  {
   "cell_type": "code",
   "execution_count": 2,
   "metadata": {
    "collapsed": true
   },
   "outputs": [],
   "source": [
    "# ---------- output string format ----------\n",
    "indexword_out_str = '\u001b[0;32;1m{0}\u001b[0m'\n",
    "pos_out_str = ' \u001b[1;36;2m{0}\u001b[1;37;1m{1}\u001b[0m'\n",
    "pos_cn_out_str = ' \u001b[0;35;2m{0}\u001b[0m{1}'\n",
    "phon_out_str = ' \u001b[0;30;1m{0}\u001b[0m'\n",
    "misc_out_str = ' \u001b[0;31;2m{0}\u001b[0m'\n",
    "dict_name_out_str = ' \u001b[1;34;1m{0}\u001b[0m'\n",
    "\n",
    "# regular expressions\n",
    "pos_reg = re.compile('(a|v|n|ad|adj|adv|vt|vi)\\.')\n",
    "pos_cn_reg = re.compile('【.*】')\n",
    "phon_reg = re.compile('\\*?\\[.*\\]')\n",
    "pinyin_bug = re.compile('([a-z]\\?.*){2,}')\n",
    "jap_bug = re.compile('\\$')"
   ]
  },
  {
   "cell_type": "code",
   "execution_count": 3,
   "metadata": {
    "collapsed": false
   },
   "outputs": [],
   "source": [
    "# ---------- loading all the dictionaries ----------\n",
    "dictionaries = []\n",
    "dict_book_names = []\n",
    "dict_path_prefix = Path.home().joinpath('.stardict')\n",
    "for i_dir in dict_path_prefix.glob('*'):\n",
    "    dict_path = dict_path_prefix.joinpath(i_dir)\n",
    "    dict_dir_name = str(dict_path) + '/'\n",
    "    for dict_name in dict_path.glob('*'):\n",
    "        if dict_name.match('*.ifo'):\n",
    "            info_name = dict_name.stem\n",
    "            with open(str(dict_name), 'r') as dict_info_file:\n",
    "                for line in dict_info_file:\n",
    "                    if line.startswith('bookname'):\n",
    "                        words = line.strip().split('=')\n",
    "                        dict_book_names.append(words[-1])\n",
    "        if dict_name.match('*.idx'):\n",
    "            indx_name = dict_name.stem\n",
    "        if dict_name.match('*.dict') or dict_name.match('*.dict.dz'):\n",
    "            data_name = dict_name.stem.split('.')[0]\n",
    "    if not info_name == indx_name == data_name:\n",
    "        print('Error: Dictionary name should be same for .ifo .idx and .dict (.dict.dz) files.')\n",
    "    else:\n",
    "        dict_name = dict_dir_name + data_name\n",
    "        dict1 = Dictionary(dict_name, True)\n",
    "        dictionaries.append(dict1)"
   ]
  },
  {
   "cell_type": "code",
   "execution_count": 4,
   "metadata": {
    "collapsed": false
   },
   "outputs": [],
   "source": [
    "def sdcv(request, dict_sel_opt):\n",
    "    dict_local = dictionaries\n",
    "    dnames_loc = dict_book_names\n",
    "    try:\n",
    "        d_tmp = dict_local[dict_sel_opt]\n",
    "        dict_local = [d_tmp]\n",
    "        name_tmp = dnames_loc[dict_sel_opt]\n",
    "        dnames_loc = [name_tmp]\n",
    "    except Exception:\n",
    "        print(' Using all the dictionaries: ')\n",
    "\n",
    "    for i, d in enumerate(dict_local):\n",
    "        dict_key_list = d.keys()\n",
    "        for dict_word in dict_key_list:\n",
    "            if request == dict_word:\n",
    "                translation = d[dict_word]\n",
    "                print('\u001b[0;30;1m--------------------------------------------------\u001b[0m')\n",
    "                print(dict_name_out_str.format(dnames_loc[i]))\n",
    "                print(indexword_out_str.format(dict_word))\n",
    "                for transline in translation.split('\\n'):\n",
    "                    m_pos = re.match(pos_reg, transline)\n",
    "                    m_pos_cn = re.search(pos_cn_reg, transline)\n",
    "                    if m_pos:\n",
    "                        print(pos_out_str.format(transline[:m_pos.end()], transline[m_pos.end():]))\n",
    "                    elif m_pos_cn:\n",
    "                        print(pos_cn_out_str.format(transline[:m_pos_cn.end()], transline[m_pos_cn.end():]))\n",
    "                    elif re.match(phon_reg, transline):\n",
    "                        print(phon_out_str.format(transline))\n",
    "                    elif transline.startswith('词形') or transline.startswith('例句') or transline.startswith('相关'):\n",
    "                        print('\u001b[0;30;1m~~~~~~~~~~~~~~~~~~~~\u001b[0m')\n",
    "                        print(misc_out_str.format(transline))\n",
    "                    elif re.match(pinyin_bug, transline):\n",
    "                        pass\n",
    "                    elif jap_bug.match(transline):\n",
    "                        print('  ', transline[1:])\n",
    "                    else:\n",
    "                        print(' ', transline)"
   ]
  },
  {
   "cell_type": "code",
   "execution_count": 5,
   "metadata": {
    "collapsed": true
   },
   "outputs": [],
   "source": [
    "dictionary_bookname_dict = {}\n",
    "for i, bname in enumerate(dict_book_names):\n",
    "    dictionary_bookname_dict[bname] = i\n",
    "dictionary_bookname_dict[\"All\"] = len(dict_book_names) + 1"
   ]
  },
  {
   "cell_type": "code",
   "execution_count": 6,
   "metadata": {
    "collapsed": false
   },
   "outputs": [
    {
     "name": "stdout",
     "output_type": "stream",
     "text": [
      " Using all the dictionaries: \n"
     ]
    }
   ],
   "source": [
    "interact(sdcv, dict_sel_opt=dictionary_bookname_dict, request='')"
   ]
  }
 ],
 "metadata": {
  "kernelspec": {
   "display_name": "Python 3",
   "language": "python",
   "name": "python3"
  },
  "language_info": {
   "codemirror_mode": {
    "name": "ipython",
    "version": 3
   },
   "file_extension": ".py",
   "mimetype": "text/x-python",
   "name": "python",
   "nbconvert_exporter": "python",
   "pygments_lexer": "ipython3",
   "version": "3.5.1"
  },
  "widgets": {
   "state": {
    "0007e80e7b244085913ca720f59ecf66": {
     "views": []
    },
    "0f50d582b66c4c01b5dd573f860461d2": {
     "views": []
    },
    "2b70d37293044d1eb1e23b6528455e3b": {
     "views": []
    },
    "64bb10dba079420fb73c94e71bbbca17": {
     "views": [
      {
       "cell_index": 5
      }
     ]
    },
    "a96dee30608d4aba90d9d7db2bf1ec79": {
     "views": []
    },
    "b325fd23bb0247a1841f7e3a94c0bafc": {
     "views": []
    }
   },
   "version": "1.1.1"
  }
 },
 "nbformat": 4,
 "nbformat_minor": 0
}
